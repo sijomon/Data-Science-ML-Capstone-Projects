{
 "cells": [
  {
   "cell_type": "code",
   "execution_count": 20,
   "metadata": {
    "id": "RedXb-FAqFo9"
   },
   "outputs": [],
   "source": [
    "import pandas as pd\n",
    "import matplotlib.pyplot as plt\n",
    "import numpy as np\n",
    "import seaborn as sns\n",
    "from sklearn.metrics import accuracy_score,classification_report,confusion_matrix,roc_auc_score,roc_curve,r2_score\n",
    "from sklearn.linear_model import LinearRegression\n",
    "from sklearn.naive_bayes import GaussianNB\n",
    "from sklearn.neighbors import KNeighborsRegressor\n",
    "from sklearn.svm import SVC\n",
    "from sklearn.tree import DecisionTreeRegressor\n",
    "from sklearn.ensemble import AdaBoostRegressor,GradientBoostingRegressor,RandomForestRegressor\n",
    "from sklearn.preprocessing import LabelEncoder,StandardScaler\n",
    "from sklearn.model_selection import cross_val_score,train_test_split,GridSearchCV\n",
    "from sklearn.externals import joblib\n",
    "from sklearn.decomposition import PCA\n",
    "from scipy.stats import zscore\n",
    "import pandas_profiling\n",
    "import pickle\n",
    "%matplotlib inline\n",
    "import plotly.offline as py"
   ]
  },
  {
   "cell_type": "code",
   "execution_count": 3,
   "metadata": {
    "id": "G9n-VrnErEdv"
   },
   "outputs": [],
   "source": [
    "dataframe=pd.read_csv('/content/drive/MyDrive/Data-Science-ML-Capstone-Projects-master/temperature.csv')"
   ]
  },
  {
   "cell_type": "code",
   "execution_count": 4,
   "metadata": {
    "colab": {
     "base_uri": "https://localhost:8080/",
     "height": 405
    },
    "id": "PzCqGyaOrPzL",
    "outputId": "7ac29ff1-769c-4713-a235-be16c8e9e127"
   },
   "outputs": [
    {
     "data": {
      "text/html": [
       "<div>\n",
       "<style scoped>\n",
       "    .dataframe tbody tr th:only-of-type {\n",
       "        vertical-align: middle;\n",
       "    }\n",
       "\n",
       "    .dataframe tbody tr th {\n",
       "        vertical-align: top;\n",
       "    }\n",
       "\n",
       "    .dataframe thead th {\n",
       "        text-align: right;\n",
       "    }\n",
       "</style>\n",
       "<table border=\"1\" class=\"dataframe\">\n",
       "  <thead>\n",
       "    <tr style=\"text-align: right;\">\n",
       "      <th></th>\n",
       "      <th>station</th>\n",
       "      <th>Date</th>\n",
       "      <th>Present_Tmax</th>\n",
       "      <th>Present_Tmin</th>\n",
       "      <th>LDAPS_RHmin</th>\n",
       "      <th>LDAPS_RHmax</th>\n",
       "      <th>LDAPS_Tmax_lapse</th>\n",
       "      <th>LDAPS_Tmin_lapse</th>\n",
       "      <th>LDAPS_WS</th>\n",
       "      <th>LDAPS_LH</th>\n",
       "      <th>LDAPS_CC1</th>\n",
       "      <th>LDAPS_CC2</th>\n",
       "      <th>LDAPS_CC3</th>\n",
       "      <th>LDAPS_CC4</th>\n",
       "      <th>LDAPS_PPT1</th>\n",
       "      <th>LDAPS_PPT2</th>\n",
       "      <th>LDAPS_PPT3</th>\n",
       "      <th>LDAPS_PPT4</th>\n",
       "      <th>lat</th>\n",
       "      <th>lon</th>\n",
       "      <th>DEM</th>\n",
       "      <th>Slope</th>\n",
       "      <th>Solar radiation</th>\n",
       "      <th>Next_Tmax</th>\n",
       "      <th>Next_Tmin</th>\n",
       "    </tr>\n",
       "  </thead>\n",
       "  <tbody>\n",
       "    <tr>\n",
       "      <th>0</th>\n",
       "      <td>1.0</td>\n",
       "      <td>30-06-2013</td>\n",
       "      <td>28.7</td>\n",
       "      <td>21.4</td>\n",
       "      <td>58.255688</td>\n",
       "      <td>91.116364</td>\n",
       "      <td>28.074101</td>\n",
       "      <td>23.006936</td>\n",
       "      <td>6.818887</td>\n",
       "      <td>69.451805</td>\n",
       "      <td>0.233947</td>\n",
       "      <td>0.203896</td>\n",
       "      <td>0.161697</td>\n",
       "      <td>0.130928</td>\n",
       "      <td>0.0</td>\n",
       "      <td>0.0</td>\n",
       "      <td>0.0</td>\n",
       "      <td>0.0</td>\n",
       "      <td>37.6046</td>\n",
       "      <td>126.991</td>\n",
       "      <td>212.3350</td>\n",
       "      <td>2.7850</td>\n",
       "      <td>5992.895996</td>\n",
       "      <td>29.1</td>\n",
       "      <td>21.2</td>\n",
       "    </tr>\n",
       "    <tr>\n",
       "      <th>1</th>\n",
       "      <td>2.0</td>\n",
       "      <td>30-06-2013</td>\n",
       "      <td>31.9</td>\n",
       "      <td>21.6</td>\n",
       "      <td>52.263397</td>\n",
       "      <td>90.604721</td>\n",
       "      <td>29.850689</td>\n",
       "      <td>24.035009</td>\n",
       "      <td>5.691890</td>\n",
       "      <td>51.937448</td>\n",
       "      <td>0.225508</td>\n",
       "      <td>0.251771</td>\n",
       "      <td>0.159444</td>\n",
       "      <td>0.127727</td>\n",
       "      <td>0.0</td>\n",
       "      <td>0.0</td>\n",
       "      <td>0.0</td>\n",
       "      <td>0.0</td>\n",
       "      <td>37.6046</td>\n",
       "      <td>127.032</td>\n",
       "      <td>44.7624</td>\n",
       "      <td>0.5141</td>\n",
       "      <td>5869.312500</td>\n",
       "      <td>30.5</td>\n",
       "      <td>22.5</td>\n",
       "    </tr>\n",
       "    <tr>\n",
       "      <th>2</th>\n",
       "      <td>3.0</td>\n",
       "      <td>30-06-2013</td>\n",
       "      <td>31.6</td>\n",
       "      <td>23.3</td>\n",
       "      <td>48.690479</td>\n",
       "      <td>83.973587</td>\n",
       "      <td>30.091292</td>\n",
       "      <td>24.565633</td>\n",
       "      <td>6.138224</td>\n",
       "      <td>20.573050</td>\n",
       "      <td>0.209344</td>\n",
       "      <td>0.257469</td>\n",
       "      <td>0.204091</td>\n",
       "      <td>0.142125</td>\n",
       "      <td>0.0</td>\n",
       "      <td>0.0</td>\n",
       "      <td>0.0</td>\n",
       "      <td>0.0</td>\n",
       "      <td>37.5776</td>\n",
       "      <td>127.058</td>\n",
       "      <td>33.3068</td>\n",
       "      <td>0.2661</td>\n",
       "      <td>5863.555664</td>\n",
       "      <td>31.1</td>\n",
       "      <td>23.9</td>\n",
       "    </tr>\n",
       "    <tr>\n",
       "      <th>3</th>\n",
       "      <td>4.0</td>\n",
       "      <td>30-06-2013</td>\n",
       "      <td>32.0</td>\n",
       "      <td>23.4</td>\n",
       "      <td>58.239788</td>\n",
       "      <td>96.483688</td>\n",
       "      <td>29.704629</td>\n",
       "      <td>23.326177</td>\n",
       "      <td>5.650050</td>\n",
       "      <td>65.727144</td>\n",
       "      <td>0.216372</td>\n",
       "      <td>0.226002</td>\n",
       "      <td>0.161157</td>\n",
       "      <td>0.134249</td>\n",
       "      <td>0.0</td>\n",
       "      <td>0.0</td>\n",
       "      <td>0.0</td>\n",
       "      <td>0.0</td>\n",
       "      <td>37.6450</td>\n",
       "      <td>127.022</td>\n",
       "      <td>45.7160</td>\n",
       "      <td>2.5348</td>\n",
       "      <td>5856.964844</td>\n",
       "      <td>31.7</td>\n",
       "      <td>24.3</td>\n",
       "    </tr>\n",
       "    <tr>\n",
       "      <th>4</th>\n",
       "      <td>5.0</td>\n",
       "      <td>30-06-2013</td>\n",
       "      <td>31.4</td>\n",
       "      <td>21.9</td>\n",
       "      <td>56.174095</td>\n",
       "      <td>90.155128</td>\n",
       "      <td>29.113934</td>\n",
       "      <td>23.486480</td>\n",
       "      <td>5.735004</td>\n",
       "      <td>107.965535</td>\n",
       "      <td>0.151407</td>\n",
       "      <td>0.249995</td>\n",
       "      <td>0.178892</td>\n",
       "      <td>0.170021</td>\n",
       "      <td>0.0</td>\n",
       "      <td>0.0</td>\n",
       "      <td>0.0</td>\n",
       "      <td>0.0</td>\n",
       "      <td>37.5507</td>\n",
       "      <td>127.135</td>\n",
       "      <td>35.0380</td>\n",
       "      <td>0.5055</td>\n",
       "      <td>5859.552246</td>\n",
       "      <td>31.2</td>\n",
       "      <td>22.5</td>\n",
       "    </tr>\n",
       "  </tbody>\n",
       "</table>\n",
       "</div>"
      ],
      "text/plain": [
       "   station        Date  Present_Tmax  ...  Solar radiation  Next_Tmax  Next_Tmin\n",
       "0      1.0  30-06-2013          28.7  ...      5992.895996       29.1       21.2\n",
       "1      2.0  30-06-2013          31.9  ...      5869.312500       30.5       22.5\n",
       "2      3.0  30-06-2013          31.6  ...      5863.555664       31.1       23.9\n",
       "3      4.0  30-06-2013          32.0  ...      5856.964844       31.7       24.3\n",
       "4      5.0  30-06-2013          31.4  ...      5859.552246       31.2       22.5\n",
       "\n",
       "[5 rows x 25 columns]"
      ]
     },
     "execution_count": 4,
     "metadata": {},
     "output_type": "execute_result"
    }
   ],
   "source": [
    "dataframe.head()"
   ]
  },
  {
   "cell_type": "code",
   "execution_count": 6,
   "metadata": {
    "colab": {
     "base_uri": "https://localhost:8080/",
     "height": 331
    },
    "id": "vV-9Y_bMrg-A",
    "outputId": "f080be65-0805-48c9-ebf5-c17eeee00bfc"
   },
   "outputs": [
    {
     "data": {
      "text/html": [
       "<div>\n",
       "<style scoped>\n",
       "    .dataframe tbody tr th:only-of-type {\n",
       "        vertical-align: middle;\n",
       "    }\n",
       "\n",
       "    .dataframe tbody tr th {\n",
       "        vertical-align: top;\n",
       "    }\n",
       "\n",
       "    .dataframe thead th {\n",
       "        text-align: right;\n",
       "    }\n",
       "</style>\n",
       "<table border=\"1\" class=\"dataframe\">\n",
       "  <thead>\n",
       "    <tr style=\"text-align: right;\">\n",
       "      <th></th>\n",
       "      <th>station</th>\n",
       "      <th>Present_Tmax</th>\n",
       "      <th>Present_Tmin</th>\n",
       "      <th>LDAPS_RHmin</th>\n",
       "      <th>LDAPS_RHmax</th>\n",
       "      <th>LDAPS_Tmax_lapse</th>\n",
       "      <th>LDAPS_Tmin_lapse</th>\n",
       "      <th>LDAPS_WS</th>\n",
       "      <th>LDAPS_LH</th>\n",
       "      <th>LDAPS_CC1</th>\n",
       "      <th>LDAPS_CC2</th>\n",
       "      <th>LDAPS_CC3</th>\n",
       "      <th>LDAPS_CC4</th>\n",
       "      <th>LDAPS_PPT1</th>\n",
       "      <th>LDAPS_PPT2</th>\n",
       "      <th>LDAPS_PPT3</th>\n",
       "      <th>LDAPS_PPT4</th>\n",
       "      <th>lat</th>\n",
       "      <th>lon</th>\n",
       "      <th>DEM</th>\n",
       "      <th>Slope</th>\n",
       "      <th>Solar radiation</th>\n",
       "      <th>Next_Tmax</th>\n",
       "      <th>Next_Tmin</th>\n",
       "    </tr>\n",
       "  </thead>\n",
       "  <tbody>\n",
       "    <tr>\n",
       "      <th>count</th>\n",
       "      <td>7750.000000</td>\n",
       "      <td>7682.000000</td>\n",
       "      <td>7682.000000</td>\n",
       "      <td>7677.000000</td>\n",
       "      <td>7677.000000</td>\n",
       "      <td>7677.000000</td>\n",
       "      <td>7677.000000</td>\n",
       "      <td>7677.000000</td>\n",
       "      <td>7677.000000</td>\n",
       "      <td>7677.000000</td>\n",
       "      <td>7677.000000</td>\n",
       "      <td>7677.000000</td>\n",
       "      <td>7677.000000</td>\n",
       "      <td>7677.000000</td>\n",
       "      <td>7677.000000</td>\n",
       "      <td>7677.000000</td>\n",
       "      <td>7677.000000</td>\n",
       "      <td>7752.000000</td>\n",
       "      <td>7752.000000</td>\n",
       "      <td>7752.000000</td>\n",
       "      <td>7752.000000</td>\n",
       "      <td>7752.000000</td>\n",
       "      <td>7725.000000</td>\n",
       "      <td>7725.000000</td>\n",
       "    </tr>\n",
       "    <tr>\n",
       "      <th>mean</th>\n",
       "      <td>13.000000</td>\n",
       "      <td>29.768211</td>\n",
       "      <td>23.225059</td>\n",
       "      <td>56.759372</td>\n",
       "      <td>88.374804</td>\n",
       "      <td>29.613447</td>\n",
       "      <td>23.512589</td>\n",
       "      <td>7.097875</td>\n",
       "      <td>62.505019</td>\n",
       "      <td>0.368774</td>\n",
       "      <td>0.356080</td>\n",
       "      <td>0.318404</td>\n",
       "      <td>0.299191</td>\n",
       "      <td>0.591995</td>\n",
       "      <td>0.485003</td>\n",
       "      <td>0.278200</td>\n",
       "      <td>0.269407</td>\n",
       "      <td>37.544722</td>\n",
       "      <td>126.991397</td>\n",
       "      <td>61.867972</td>\n",
       "      <td>1.257048</td>\n",
       "      <td>5341.502803</td>\n",
       "      <td>30.274887</td>\n",
       "      <td>22.932220</td>\n",
       "    </tr>\n",
       "    <tr>\n",
       "      <th>std</th>\n",
       "      <td>7.211568</td>\n",
       "      <td>2.969999</td>\n",
       "      <td>2.413961</td>\n",
       "      <td>14.668111</td>\n",
       "      <td>7.192004</td>\n",
       "      <td>2.947191</td>\n",
       "      <td>2.345347</td>\n",
       "      <td>2.183836</td>\n",
       "      <td>33.730589</td>\n",
       "      <td>0.262458</td>\n",
       "      <td>0.258061</td>\n",
       "      <td>0.250362</td>\n",
       "      <td>0.254348</td>\n",
       "      <td>1.945768</td>\n",
       "      <td>1.762807</td>\n",
       "      <td>1.161809</td>\n",
       "      <td>1.206214</td>\n",
       "      <td>0.050352</td>\n",
       "      <td>0.079435</td>\n",
       "      <td>54.279780</td>\n",
       "      <td>1.370444</td>\n",
       "      <td>429.158867</td>\n",
       "      <td>3.128010</td>\n",
       "      <td>2.487613</td>\n",
       "    </tr>\n",
       "    <tr>\n",
       "      <th>min</th>\n",
       "      <td>1.000000</td>\n",
       "      <td>20.000000</td>\n",
       "      <td>11.300000</td>\n",
       "      <td>19.794666</td>\n",
       "      <td>58.936283</td>\n",
       "      <td>17.624954</td>\n",
       "      <td>14.272646</td>\n",
       "      <td>2.882580</td>\n",
       "      <td>-13.603212</td>\n",
       "      <td>0.000000</td>\n",
       "      <td>0.000000</td>\n",
       "      <td>0.000000</td>\n",
       "      <td>0.000000</td>\n",
       "      <td>0.000000</td>\n",
       "      <td>0.000000</td>\n",
       "      <td>0.000000</td>\n",
       "      <td>0.000000</td>\n",
       "      <td>37.456200</td>\n",
       "      <td>126.826000</td>\n",
       "      <td>12.370000</td>\n",
       "      <td>0.098475</td>\n",
       "      <td>4329.520508</td>\n",
       "      <td>17.400000</td>\n",
       "      <td>11.300000</td>\n",
       "    </tr>\n",
       "    <tr>\n",
       "      <th>25%</th>\n",
       "      <td>7.000000</td>\n",
       "      <td>27.800000</td>\n",
       "      <td>21.700000</td>\n",
       "      <td>45.963543</td>\n",
       "      <td>84.222862</td>\n",
       "      <td>27.673499</td>\n",
       "      <td>22.089739</td>\n",
       "      <td>5.678705</td>\n",
       "      <td>37.266753</td>\n",
       "      <td>0.146654</td>\n",
       "      <td>0.140615</td>\n",
       "      <td>0.101388</td>\n",
       "      <td>0.081532</td>\n",
       "      <td>0.000000</td>\n",
       "      <td>0.000000</td>\n",
       "      <td>0.000000</td>\n",
       "      <td>0.000000</td>\n",
       "      <td>37.510200</td>\n",
       "      <td>126.937000</td>\n",
       "      <td>28.700000</td>\n",
       "      <td>0.271300</td>\n",
       "      <td>4999.018555</td>\n",
       "      <td>28.200000</td>\n",
       "      <td>21.300000</td>\n",
       "    </tr>\n",
       "    <tr>\n",
       "      <th>50%</th>\n",
       "      <td>13.000000</td>\n",
       "      <td>29.900000</td>\n",
       "      <td>23.400000</td>\n",
       "      <td>55.039024</td>\n",
       "      <td>89.793480</td>\n",
       "      <td>29.703426</td>\n",
       "      <td>23.760199</td>\n",
       "      <td>6.547470</td>\n",
       "      <td>56.865482</td>\n",
       "      <td>0.315697</td>\n",
       "      <td>0.312421</td>\n",
       "      <td>0.262555</td>\n",
       "      <td>0.227664</td>\n",
       "      <td>0.000000</td>\n",
       "      <td>0.000000</td>\n",
       "      <td>0.000000</td>\n",
       "      <td>0.000000</td>\n",
       "      <td>37.550700</td>\n",
       "      <td>126.995000</td>\n",
       "      <td>45.716000</td>\n",
       "      <td>0.618000</td>\n",
       "      <td>5436.345215</td>\n",
       "      <td>30.500000</td>\n",
       "      <td>23.100000</td>\n",
       "    </tr>\n",
       "    <tr>\n",
       "      <th>75%</th>\n",
       "      <td>19.000000</td>\n",
       "      <td>32.000000</td>\n",
       "      <td>24.900000</td>\n",
       "      <td>67.190056</td>\n",
       "      <td>93.743629</td>\n",
       "      <td>31.710450</td>\n",
       "      <td>25.152909</td>\n",
       "      <td>8.032276</td>\n",
       "      <td>84.223616</td>\n",
       "      <td>0.575489</td>\n",
       "      <td>0.558694</td>\n",
       "      <td>0.496703</td>\n",
       "      <td>0.499489</td>\n",
       "      <td>0.052525</td>\n",
       "      <td>0.018364</td>\n",
       "      <td>0.007896</td>\n",
       "      <td>0.000041</td>\n",
       "      <td>37.577600</td>\n",
       "      <td>127.042000</td>\n",
       "      <td>59.832400</td>\n",
       "      <td>1.767800</td>\n",
       "      <td>5728.316406</td>\n",
       "      <td>32.600000</td>\n",
       "      <td>24.600000</td>\n",
       "    </tr>\n",
       "    <tr>\n",
       "      <th>max</th>\n",
       "      <td>25.000000</td>\n",
       "      <td>37.600000</td>\n",
       "      <td>29.900000</td>\n",
       "      <td>98.524734</td>\n",
       "      <td>100.000153</td>\n",
       "      <td>38.542255</td>\n",
       "      <td>29.619342</td>\n",
       "      <td>21.857621</td>\n",
       "      <td>213.414006</td>\n",
       "      <td>0.967277</td>\n",
       "      <td>0.968353</td>\n",
       "      <td>0.983789</td>\n",
       "      <td>0.974710</td>\n",
       "      <td>23.701544</td>\n",
       "      <td>21.621661</td>\n",
       "      <td>15.841235</td>\n",
       "      <td>16.655469</td>\n",
       "      <td>37.645000</td>\n",
       "      <td>127.135000</td>\n",
       "      <td>212.335000</td>\n",
       "      <td>5.178230</td>\n",
       "      <td>5992.895996</td>\n",
       "      <td>38.900000</td>\n",
       "      <td>29.800000</td>\n",
       "    </tr>\n",
       "  </tbody>\n",
       "</table>\n",
       "</div>"
      ],
      "text/plain": [
       "           station  Present_Tmax  ...    Next_Tmax    Next_Tmin\n",
       "count  7750.000000   7682.000000  ...  7725.000000  7725.000000\n",
       "mean     13.000000     29.768211  ...    30.274887    22.932220\n",
       "std       7.211568      2.969999  ...     3.128010     2.487613\n",
       "min       1.000000     20.000000  ...    17.400000    11.300000\n",
       "25%       7.000000     27.800000  ...    28.200000    21.300000\n",
       "50%      13.000000     29.900000  ...    30.500000    23.100000\n",
       "75%      19.000000     32.000000  ...    32.600000    24.600000\n",
       "max      25.000000     37.600000  ...    38.900000    29.800000\n",
       "\n",
       "[8 rows x 24 columns]"
      ]
     },
     "execution_count": 6,
     "metadata": {},
     "output_type": "execute_result"
    }
   ],
   "source": [
    "dataframe.describe()"
   ]
  },
  {
   "cell_type": "code",
   "execution_count": 7,
   "metadata": {
    "colab": {
     "base_uri": "https://localhost:8080/"
    },
    "id": "PWYKjWzQsCQ6",
    "outputId": "8d18a0d1-d9b4-481d-b629-ae6c91d7ee2a"
   },
   "outputs": [
    {
     "data": {
      "text/plain": [
       "(7752, 25)"
      ]
     },
     "execution_count": 7,
     "metadata": {},
     "output_type": "execute_result"
    }
   ],
   "source": [
    "dataframe.shape"
   ]
  },
  {
   "cell_type": "code",
   "execution_count": 8,
   "metadata": {
    "colab": {
     "base_uri": "https://localhost:8080/",
     "height": 827
    },
    "id": "Oc8KOqcrsIyc",
    "outputId": "c4c2d777-1e67-400b-d299-70f09af54c4b"
   },
   "outputs": [
    {
     "data": {
      "text/plain": [
       "<Figure size 432x288 with 0 Axes>"
      ]
     },
     "metadata": {},
     "output_type": "display_data"
    },
    {
     "data": {
      "image/png": "[encoded data removed]",
      "text/plain": [
       "<Figure size 360x360 with 1 Axes>"
      ]
     },
     "metadata": {
      "needs_background": "light"
     },
     "output_type": "display_data"
    },
    {
     "data": {
      "text/plain": [
       "<Figure size 432x288 with 0 Axes>"
      ]
     },
     "metadata": {},
     "output_type": "display_data"
    },
    {
     "data": {
      "image/png": "[encoded data removed]",
      "text/plain": [
       "<Figure size 360x360 with 1 Axes>"
      ]
     },
     "metadata": {
      "needs_background": "light"
     },
     "output_type": "display_data"
    },
    {
     "name": "stdout",
     "output_type": "stream",
     "text": [
      "30.274886731391593\n",
      "3.128010057855773\n",
      "22.93222006472492\n",
      "2.487612771331068\n"
     ]
    }
   ],
   "source": [
    "for col in [\"Next_Tmax\",\"Next_Tmin\"]:\n",
    "    plt.figure()\n",
    "    sns.displot(dataframe[col],kind='kde')\n",
    "    plt.show()\n",
    "print(dataframe[\"Next_Tmax\"].mean())\n",
    "print(dataframe[\"Next_Tmax\"].std())\n",
    "print(dataframe[\"Next_Tmin\"].mean())\n",
    "print(dataframe[\"Next_Tmin\"].std())"
   ]
  },
  {
   "cell_type": "code",
   "execution_count": 9,
   "metadata": {
    "id": "U1oSX2-sshYi"
   },
   "outputs": [],
   "source": [
    "dataframe=dataframe.drop('Date',axis=1)"
   ]
  },
  {
   "cell_type": "code",
   "execution_count": 10,
   "metadata": {
    "colab": {
     "base_uri": "https://localhost:8080/"
    },
    "id": "jI7zBIB9s_ug",
    "outputId": "cbc8bb6b-83e5-4ff1-9834-7c22c7a58ef8"
   },
   "outputs": [
    {
     "name": "stdout",
     "output_type": "stream",
     "text": [
      "<class 'pandas.core.frame.DataFrame'>\n",
      "RangeIndex: 7752 entries, 0 to 7751\n",
      "Data columns (total 24 columns):\n",
      " #   Column            Non-Null Count  Dtype  \n",
      "---  ------            --------------  -----  \n",
      " 0   station           7750 non-null   float64\n",
      " 1   Present_Tmax      7682 non-null   float64\n",
      " 2   Present_Tmin      7682 non-null   float64\n",
      " 3   LDAPS_RHmin       7677 non-null   float64\n",
      " 4   LDAPS_RHmax       7677 non-null   float64\n",
      " 5   LDAPS_Tmax_lapse  7677 non-null   float64\n",
      " 6   LDAPS_Tmin_lapse  7677 non-null   float64\n",
      " 7   LDAPS_WS          7677 non-null   float64\n",
      " 8   LDAPS_LH          7677 non-null   float64\n",
      " 9   LDAPS_CC1         7677 non-null   float64\n",
      " 10  LDAPS_CC2         7677 non-null   float64\n",
      " 11  LDAPS_CC3         7677 non-null   float64\n",
      " 12  LDAPS_CC4         7677 non-null   float64\n",
      " 13  LDAPS_PPT1        7677 non-null   float64\n",
      " 14  LDAPS_PPT2        7677 non-null   float64\n",
      " 15  LDAPS_PPT3        7677 non-null   float64\n",
      " 16  LDAPS_PPT4        7677 non-null   float64\n",
      " 17  lat               7752 non-null   float64\n",
      " 18  lon               7752 non-null   float64\n",
      " 19  DEM               7752 non-null   float64\n",
      " 20  Slope             7752 non-null   float64\n",
      " 21  Solar radiation   7752 non-null   float64\n",
      " 22  Next_Tmax         7725 non-null   float64\n",
      " 23  Next_Tmin         7725 non-null   float64\n",
      "dtypes: float64(24)\n",
      "memory usage: 1.4 MB\n"
     ]
    }
   ],
   "source": [
    "dataframe.info()"
   ]
  },
  {
   "cell_type": "code",
   "execution_count": 12,
   "metadata": {
    "id": "pIMTBCmttUF8"
   },
   "outputs": [],
   "source": [
    "dataframe['station']=dataframe['station'].fillna(dataframe['station'].mean())\n",
    "dataframe['Present_Tmax']=dataframe['Present_Tmax'].fillna(dataframe['Present_Tmax'].mean())\n",
    "dataframe['Present_Tmin']=dataframe['Present_Tmin'].fillna(dataframe['Present_Tmin'].mean())\n",
    "dataframe['LDAPS_RHmin']=dataframe['LDAPS_RHmin'].fillna(dataframe['LDAPS_RHmin'].mean())\n",
    "dataframe['LDAPS_RHmax']=dataframe['LDAPS_RHmax'].fillna(dataframe['LDAPS_RHmax'].mean())\n",
    "dataframe['LDAPS_Tmax_lapse']=dataframe['LDAPS_Tmax_lapse'].fillna(dataframe['LDAPS_Tmax_lapse'].mean())\n",
    "dataframe['LDAPS_Tmin_lapse']=dataframe['LDAPS_Tmin_lapse'].fillna(dataframe['LDAPS_Tmin_lapse'].mean())\n",
    "dataframe['LDAPS_WS']=dataframe['LDAPS_WS'].fillna(dataframe['LDAPS_WS'].mean())\n",
    "dataframe['LDAPS_LH']=dataframe['LDAPS_LH'].fillna(dataframe['LDAPS_LH'].mean())\n",
    "dataframe['LDAPS_CC1']=dataframe['LDAPS_CC1'].fillna(dataframe['LDAPS_CC1'].mean())\n",
    "dataframe['LDAPS_CC2']=dataframe['LDAPS_CC2'].fillna(dataframe['LDAPS_CC2'].mean())\n",
    "dataframe['LDAPS_CC3']=dataframe['LDAPS_CC3'].fillna(dataframe['LDAPS_CC3'].mean())\n",
    "dataframe['LDAPS_CC4']=dataframe['LDAPS_CC4'].fillna(dataframe['LDAPS_CC4'].mean())\n",
    "dataframe['LDAPS_PPT1']=dataframe['LDAPS_PPT1'].fillna(dataframe['LDAPS_PPT1'].mean())\n",
    "dataframe['LDAPS_PPT2']=dataframe['LDAPS_PPT2'].fillna(dataframe['LDAPS_PPT2'].mean())\n",
    "dataframe['LDAPS_PPT3']=dataframe['LDAPS_PPT3'].fillna(dataframe['LDAPS_PPT3'].mean())\n",
    "dataframe['LDAPS_PPT4']=dataframe['LDAPS_PPT4'].fillna(dataframe['LDAPS_PPT4'].mean())\n",
    "dataframe['Next_Tmax']=dataframe['Next_Tmax'].fillna(dataframe['Next_Tmax'].mean())\n",
    "dataframe['Next_Tmin']=dataframe['Next_Tmin'].fillna(dataframe['Next_Tmin'].mean())"
   ]
  },
  {
   "cell_type": "code",
   "execution_count": 13,
   "metadata": {
    "colab": {
     "base_uri": "https://localhost:8080/"
    },
    "id": "VMEGbEJ3vnjY",
    "outputId": "ea2410ea-766d-45ec-86e4-72db944d3502"
   },
   "outputs": [
    {
     "name": "stdout",
     "output_type": "stream",
     "text": [
      "<class 'pandas.core.frame.DataFrame'>\n",
      "RangeIndex: 7752 entries, 0 to 7751\n",
      "Data columns (total 24 columns):\n",
      " #   Column            Non-Null Count  Dtype  \n",
      "---  ------            --------------  -----  \n",
      " 0   station           7752 non-null   float64\n",
      " 1   Present_Tmax      7752 non-null   float64\n",
      " 2   Present_Tmin      7752 non-null   float64\n",
      " 3   LDAPS_RHmin       7752 non-null   float64\n",
      " 4   LDAPS_RHmax       7752 non-null   float64\n",
      " 5   LDAPS_Tmax_lapse  7752 non-null   float64\n",
      " 6   LDAPS_Tmin_lapse  7752 non-null   float64\n",
      " 7   LDAPS_WS          7752 non-null   float64\n",
      " 8   LDAPS_LH          7752 non-null   float64\n",
      " 9   LDAPS_CC1         7752 non-null   float64\n",
      " 10  LDAPS_CC2         7752 non-null   float64\n",
      " 11  LDAPS_CC3         7752 non-null   float64\n",
      " 12  LDAPS_CC4         7752 non-null   float64\n",
      " 13  LDAPS_PPT1        7752 non-null   float64\n",
      " 14  LDAPS_PPT2        7752 non-null   float64\n",
      " 15  LDAPS_PPT3        7752 non-null   float64\n",
      " 16  LDAPS_PPT4        7752 non-null   float64\n",
      " 17  lat               7752 non-null   float64\n",
      " 18  lon               7752 non-null   float64\n",
      " 19  DEM               7752 non-null   float64\n",
      " 20  Slope             7752 non-null   float64\n",
      " 21  Solar radiation   7752 non-null   float64\n",
      " 22  Next_Tmax         7752 non-null   float64\n",
      " 23  Next_Tmin         7752 non-null   float64\n",
      "dtypes: float64(24)\n",
      "memory usage: 1.4 MB\n"
     ]
    }
   ],
   "source": [
    "dataframe.info()"
   ]
  },
  {
   "cell_type": "code",
   "execution_count": 15,
   "metadata": {
    "id": "gbqjA0KmvrGi"
   },
   "outputs": [],
   "source": [
    "X = dataframe.drop(['Next_Tmax','Next_Tmin'],axis=1)\n",
    "y_max = dataframe[\"Next_Tmax\"]\n",
    "y_min = dataframe[\"Next_Tmin\"]"
   ]
  },
  {
   "cell_type": "code",
   "execution_count": 21,
   "metadata": {
    "colab": {
     "base_uri": "https://localhost:8080/"
    },
    "id": "6bWdHABxA3lF",
    "outputId": "9c25c509-81ac-44e6-8439-cf9778525e51"
   },
   "outputs": [
    {
     "name": "stdout",
     "output_type": "stream",
     "text": [
      "\n",
      "\n",
      "Max Score is  0.9120505916599979   For Random State  59  and model is  RandomForestRegressor(bootstrap=True, ccp_alpha=0.0, criterion='mse',\n",
      "                      max_depth=None, max_features='auto', max_leaf_nodes=None,\n",
      "                      max_samples=None, min_impurity_decrease=0.0,\n",
      "                      min_impurity_split=None, min_samples_leaf=1,\n",
      "                      min_samples_split=2, min_weight_fraction_leaf=0.0,\n",
      "                      n_estimators=100, n_jobs=None, oob_score=False,\n",
      "                      random_state=None, verbose=0, warm_start=False)\n"
     ]
    }
   ],
   "source": [
    "model=[DecisionTreeRegressor(),KNeighborsRegressor(),AdaBoostRegressor(),LinearRegression(),GradientBoostingRegressor(),RandomForestRegressor()]\n",
    "max_s=0\n",
    "for r_s in range(40,90):\n",
    "  X_train,X_test,y_train,y_test=train_test_split(X,y_max,test_size=0.2,random_state=r_s)\n",
    "  for i in model:\n",
    "    i.fit(X_train,y_train)\n",
    "    pre=i.predict(X_test)\n",
    "    r2_sc= r2_score(y_test,pre)\n",
    "    if r2_sc>max_s:\n",
    "      max_s=r2_sc\n",
    "      final_State= r_s\n",
    "      final_model=i\n",
    "print()\n",
    "print()\n",
    "\n",
    "print(\"Max Score is \",max_s,\"  For Random State \",final_State,\" and model is \", final_model )"
   ]
  },
  {
   "cell_type": "code",
   "execution_count": 22,
   "metadata": {
    "id": "5HrrkBE9Fdez"
   },
   "outputs": [],
   "source": [
    "X_train,X_test,y_train,y_test=train_test_split(X,y_max,test_size=0.2,random_state=59)"
   ]
  },
  {
   "cell_type": "code",
   "execution_count": 35,
   "metadata": {
    "id": "n60syTgbBay5"
   },
   "outputs": [],
   "source": [
    "model_B= RandomForestRegressor(bootstrap=True, ccp_alpha=0.0, criterion='mse',\n",
    "                      max_depth=None, max_features='auto', max_leaf_nodes=None,\n",
    "                      max_samples=None, min_impurity_decrease=0.0,\n",
    "                      min_impurity_split=None, min_samples_leaf=1,\n",
    "                      min_samples_split=2, min_weight_fraction_leaf=0.0,\n",
    "                      n_estimators=100, n_jobs=None, oob_score=False,\n",
    "                      random_state=None, verbose=0, warm_start=False)"
   ]
  },
  {
   "cell_type": "code",
   "execution_count": 36,
   "metadata": {
    "colab": {
     "base_uri": "https://localhost:8080/"
    },
    "id": "qdrd-w_sFb8-",
    "outputId": "00d56597-4928-41ff-c729-37b833e006ce"
   },
   "outputs": [
    {
     "name": "stdout",
     "output_type": "stream",
     "text": [
      "0.9122550805464298\n"
     ]
    }
   ],
   "source": [
    "model_B.fit(X_train,y_train)\n",
    "pred=model_B.predict(X_test)\n",
    "Scor= r2_score(y_test,pred)\n",
    "print(Scor)"
   ]
  },
  {
   "cell_type": "code",
   "execution_count": 37,
   "metadata": {
    "id": "tbVUpaYlKtVY"
   },
   "outputs": [],
   "source": [
    "pickle.dump(model_B, open('Max_Temp_m.pkl', 'wb'))"
   ]
  },
  {
   "cell_type": "code",
   "execution_count": 38,
   "metadata": {
    "colab": {
     "base_uri": "https://localhost:8080/"
    },
    "id": "sGg5L7unBbjh",
    "outputId": "03015957-10cf-4782-a75a-144c6e9f957f"
   },
   "outputs": [
    {
     "name": "stdout",
     "output_type": "stream",
     "text": [
      "\n",
      "\n",
      "Max Score is  0.892396822867556   For Random State  42  and model is  GradientBoostingRegressor(alpha=0.9, ccp_alpha=0.0, criterion='friedman_mse',\n",
      "                          init=None, learning_rate=0.1, loss='ls', max_depth=3,\n",
      "                          max_features=None, max_leaf_nodes=None,\n",
      "                          min_impurity_decrease=0.0, min_impurity_split=None,\n",
      "                          min_samples_leaf=1, min_samples_split=2,\n",
      "                          min_weight_fraction_leaf=0.0, n_estimators=100,\n",
      "                          n_iter_no_change=None, presort='deprecated',\n",
      "                          random_state=None, subsample=1.0, tol=0.0001,\n",
      "                          validation_fraction=0.1, verbose=0, warm_start=False)\n"
     ]
    }
   ],
   "source": [
    "model=[DecisionTreeRegressor(),KNeighborsRegressor(),AdaBoostRegressor(),LinearRegression(),GradientBoostingRegressor()]\n",
    "max_s=0\n",
    "for r_s in range(40,90):\n",
    "  X_train,X_test,y_train,y_test=train_test_split(X,y_min,test_size=0.2,random_state=r_s)\n",
    "  for i in model:\n",
    "    i.fit(X_train,y_train)\n",
    "    pre=i.predict(X_test)\n",
    "    r2_sc= r2_score(y_test,pre)\n",
    "    if r2_sc>max_s:\n",
    "      max_s=r2_sc\n",
    "      final_State= r_s\n",
    "      final_model=i\n",
    "print()\n",
    "print()\n",
    "\n",
    "print(\"Max Score is \",max_s,\"  For Random State \",final_State,\" and model is \", final_model )"
   ]
  },
  {
   "cell_type": "code",
   "execution_count": 39,
   "metadata": {
    "id": "gDHVOm8pLF07"
   },
   "outputs": [],
   "source": [
    "model=GradientBoostingRegressor(alpha=0.9, ccp_alpha=0.0, criterion='friedman_mse',\n",
    "                          init=None, learning_rate=0.1, loss='ls', max_depth=3,\n",
    "                          max_features=None, max_leaf_nodes=None,\n",
    "                          min_impurity_decrease=0.0, min_impurity_split=None,\n",
    "                          min_samples_leaf=1, min_samples_split=2,\n",
    "                          min_weight_fraction_leaf=0.0, n_estimators=100,\n",
    "                          n_iter_no_change=None, presort='deprecated',\n",
    "                          random_state=None, subsample=1.0, tol=0.0001,\n",
    "                          validation_fraction=0.1, verbose=0, warm_start=False)"
   ]
  },
  {
   "cell_type": "code",
   "execution_count": 40,
   "metadata": {
    "id": "5nb8ph-mMD_I"
   },
   "outputs": [],
   "source": [
    " X_train,X_test,y_train,y_test=train_test_split(X,y_min,test_size=0.2,random_state=42)"
   ]
  },
  {
   "cell_type": "code",
   "execution_count": 41,
   "metadata": {
    "colab": {
     "base_uri": "https://localhost:8080/"
    },
    "id": "XgFiTfteLJtL",
    "outputId": "7fa6f611-8bcd-4de3-fe66-c7c9053dcb66"
   },
   "outputs": [
    {
     "name": "stdout",
     "output_type": "stream",
     "text": [
      "0.892396822867556\n"
     ]
    }
   ],
   "source": [
    "model.fit(X_train,y_train)\n",
    "pred=model.predict(X_test)\n",
    "Scor= r2_score(y_test,pred)\n",
    "print(Scor)"
   ]
  },
  {
   "cell_type": "code",
   "execution_count": 42,
   "metadata": {
    "id": "DhMws9T4LNyT"
   },
   "outputs": [],
   "source": [
    "pickle.dump(model, open('min_Temp_m.pkl', 'wb'))"
   ]
  }
 ],
 "metadata": {
  "colab": {
   "name": "Temperature Forecast.ipynb",
   "provenance": []
  },
  "kernelspec": {
   "display_name": "Python 3",
   "language": "python",
   "name": "python3"
  },
  "language_info": {
   "codemirror_mode": {
    "name": "ipython",
    "version": 3
   },
   "file_extension": ".py",
   "mimetype": "text/x-python",
   "name": "python",
   "nbconvert_exporter": "python",
   "pygments_lexer": "ipython3",
   "version": "3.8.5"
  }
 },
 "nbformat": 4,
 "nbformat_minor": 1
}
